{
 "cells": [
  {
   "cell_type": "code",
   "execution_count": 1,
   "metadata": {},
   "outputs": [],
   "source": [
    "import pandas as pd\n",
    "import numpy as np\n",
    "\n",
    "from sklearn.preprocessing import StandardScaler\n",
    "\n",
    "df = pd.read_csv('bodyPerformance.csv')\n",
    "len_row, len_col = df.shape\n",
    "df.fillna(df.mode().iloc[0], inplace=True) # Replace NaN values with mode of corresponding column\n",
    "# use the factorize() function to convert the column of strings to integers\n",
    "non_int_columns = df.select_dtypes(include=['object']).columns.tolist()\n",
    "    \n",
    "# Delete duplicate rows\n",
    "df = df.drop_duplicates()"
   ]
  },
  {
   "cell_type": "code",
   "execution_count": 2,
   "metadata": {},
   "outputs": [
    {
     "name": "stdout",
     "output_type": "stream",
     "text": [
      "100 37\n"
     ]
    }
   ],
   "source": [
    "print(len_row, len_col)"
   ]
  },
  {
   "cell_type": "code",
   "execution_count": 2,
   "metadata": {},
   "outputs": [],
   "source": [
    "label_mapping = {1: 0, 2: 1, 3: 2, 4: 3, 5: 4}\n",
    "\n",
    "df['Target'] = df['Target'].replace(label_mapping)"
   ]
  },
  {
   "cell_type": "code",
   "execution_count": 2,
   "metadata": {},
   "outputs": [],
   "source": [
    "label_mapping = {'A': 0, 'B': 1, 'C': 2, 'D': 3}\n",
    "\n",
    "df['class'] = df['class'].replace(label_mapping)\n",
    "\n",
    "label_mapping = {'M': 1, 'F': 2}\n",
    "\n",
    "df['gender'] = df['gender'].replace(label_mapping)"
   ]
  },
  {
   "cell_type": "code",
   "execution_count": 3,
   "metadata": {},
   "outputs": [],
   "source": [
    "df = df.iloc[:, 1:]"
   ]
  },
  {
   "cell_type": "code",
   "execution_count": 113,
   "metadata": {},
   "outputs": [],
   "source": [
    "df = df.drop(['stdevy135','korelasi135'], axis=1)"
   ]
  },
  {
   "cell_type": "code",
   "execution_count": 3,
   "metadata": {},
   "outputs": [
    {
     "data": {
      "text/html": [
       "<div>\n",
       "<style scoped>\n",
       "    .dataframe tbody tr th:only-of-type {\n",
       "        vertical-align: middle;\n",
       "    }\n",
       "\n",
       "    .dataframe tbody tr th {\n",
       "        vertical-align: top;\n",
       "    }\n",
       "\n",
       "    .dataframe thead th {\n",
       "        text-align: right;\n",
       "    }\n",
       "</style>\n",
       "<table border=\"1\" class=\"dataframe\">\n",
       "  <thead>\n",
       "    <tr style=\"text-align: right;\">\n",
       "      <th></th>\n",
       "      <th>age</th>\n",
       "      <th>gender</th>\n",
       "      <th>height_cm</th>\n",
       "      <th>weight_kg</th>\n",
       "      <th>body fat_%</th>\n",
       "      <th>diastolic</th>\n",
       "      <th>systolic</th>\n",
       "      <th>gripForce</th>\n",
       "      <th>sit and bend forward_cm</th>\n",
       "      <th>sit-ups counts</th>\n",
       "      <th>broad jump_cm</th>\n",
       "      <th>class</th>\n",
       "    </tr>\n",
       "  </thead>\n",
       "  <tbody>\n",
       "    <tr>\n",
       "      <th>0</th>\n",
       "      <td>27.0</td>\n",
       "      <td>1</td>\n",
       "      <td>172.3</td>\n",
       "      <td>75.24</td>\n",
       "      <td>21.3</td>\n",
       "      <td>80.0</td>\n",
       "      <td>130.0</td>\n",
       "      <td>54.9</td>\n",
       "      <td>18.4</td>\n",
       "      <td>60.0</td>\n",
       "      <td>217.0</td>\n",
       "      <td>2</td>\n",
       "    </tr>\n",
       "    <tr>\n",
       "      <th>1</th>\n",
       "      <td>25.0</td>\n",
       "      <td>1</td>\n",
       "      <td>165.0</td>\n",
       "      <td>55.80</td>\n",
       "      <td>15.7</td>\n",
       "      <td>77.0</td>\n",
       "      <td>126.0</td>\n",
       "      <td>36.4</td>\n",
       "      <td>16.3</td>\n",
       "      <td>53.0</td>\n",
       "      <td>229.0</td>\n",
       "      <td>0</td>\n",
       "    </tr>\n",
       "    <tr>\n",
       "      <th>2</th>\n",
       "      <td>31.0</td>\n",
       "      <td>1</td>\n",
       "      <td>179.6</td>\n",
       "      <td>78.00</td>\n",
       "      <td>20.1</td>\n",
       "      <td>92.0</td>\n",
       "      <td>152.0</td>\n",
       "      <td>44.8</td>\n",
       "      <td>12.0</td>\n",
       "      <td>49.0</td>\n",
       "      <td>181.0</td>\n",
       "      <td>2</td>\n",
       "    </tr>\n",
       "    <tr>\n",
       "      <th>3</th>\n",
       "      <td>32.0</td>\n",
       "      <td>1</td>\n",
       "      <td>174.5</td>\n",
       "      <td>71.10</td>\n",
       "      <td>18.4</td>\n",
       "      <td>76.0</td>\n",
       "      <td>147.0</td>\n",
       "      <td>41.4</td>\n",
       "      <td>15.2</td>\n",
       "      <td>53.0</td>\n",
       "      <td>219.0</td>\n",
       "      <td>1</td>\n",
       "    </tr>\n",
       "    <tr>\n",
       "      <th>4</th>\n",
       "      <td>28.0</td>\n",
       "      <td>1</td>\n",
       "      <td>173.8</td>\n",
       "      <td>67.70</td>\n",
       "      <td>17.1</td>\n",
       "      <td>70.0</td>\n",
       "      <td>127.0</td>\n",
       "      <td>43.5</td>\n",
       "      <td>27.1</td>\n",
       "      <td>45.0</td>\n",
       "      <td>217.0</td>\n",
       "      <td>1</td>\n",
       "    </tr>\n",
       "  </tbody>\n",
       "</table>\n",
       "</div>"
      ],
      "text/plain": [
       "    age  gender  height_cm  weight_kg  body fat_%  diastolic  systolic  \\\n",
       "0  27.0       1      172.3      75.24        21.3       80.0     130.0   \n",
       "1  25.0       1      165.0      55.80        15.7       77.0     126.0   \n",
       "2  31.0       1      179.6      78.00        20.1       92.0     152.0   \n",
       "3  32.0       1      174.5      71.10        18.4       76.0     147.0   \n",
       "4  28.0       1      173.8      67.70        17.1       70.0     127.0   \n",
       "\n",
       "   gripForce  sit and bend forward_cm  sit-ups counts  broad jump_cm  class  \n",
       "0       54.9                     18.4            60.0          217.0      2  \n",
       "1       36.4                     16.3            53.0          229.0      0  \n",
       "2       44.8                     12.0            49.0          181.0      2  \n",
       "3       41.4                     15.2            53.0          219.0      1  \n",
       "4       43.5                     27.1            45.0          217.0      1  "
      ]
     },
     "execution_count": 3,
     "metadata": {},
     "output_type": "execute_result"
    }
   ],
   "source": [
    "df.head()"
   ]
  },
  {
   "cell_type": "code",
   "execution_count": 5,
   "metadata": {},
   "outputs": [],
   "source": [
    "# Membaca data\n",
    "X = np.array(df.iloc[:, :-1])\n",
    "y = np.array(df.iloc[:, -1])\n",
    "\n",
    "# Create a StandardScaler object\n",
    "scaler = StandardScaler()\n",
    "\n",
    "# Fit the scaler to the dataset\n",
    "scaler.fit(X)\n",
    "\n",
    "# Transform the dataset using the scaler\n",
    "X_std = scaler.transform(X)"
   ]
  },
  {
   "cell_type": "code",
   "execution_count": 6,
   "metadata": {},
   "outputs": [],
   "source": [
    "%run func.ipynb"
   ]
  },
  {
   "attachments": {
    "image.png": {
     "image/png": "[encoded data removed]"
    }
   },
   "cell_type": "markdown",
   "metadata": {},
   "source": [
    "![image.png](attachment:image.png)"
   ]
  },
  {
   "cell_type": "code",
   "execution_count": 7,
   "metadata": {},
   "outputs": [
    {
     "name": "stdout",
     "output_type": "stream",
     "text": [
      "Maximum Fisher's discriminant ratio (F1): 0.009551998997520652\n"
     ]
    }
   ],
   "source": [
    "def calculate_F1(X, y):\n",
    "    c = len(np.unique(y))  # Number of classes\n",
    "    means = np.zeros(c)  # Array to store means of each class\n",
    "    variances = np.zeros(c)  # Array to store variances of each class\n",
    "    proportions = np.zeros(c)  # Array to store proportions of each class\n",
    "    \n",
    "    # Calculate means, variances, and proportions of each class\n",
    "    for i in range(c):\n",
    "        means[i] = np.mean(X[y == i])\n",
    "        \n",
    "        variances[i] = np.var(X[y == i])\n",
    "        \n",
    "        proportions[i] = np.sum(y == i) / len(y)\n",
    "    numerator = 0.0\n",
    "    denominator = 0.0\n",
    "\n",
    "    # Calculate numerator and denominator of F1\n",
    "    for i in range(c):\n",
    "        for j in range(c):\n",
    "            if i != j:\n",
    "                numerator += proportions[i] * proportions[j] * (means[i] - means[j]) ** 2\n",
    "\n",
    "        denominator += proportions[i] * variances[i]\n",
    "    F1 = numerator / denominator\n",
    "    return F1\n",
    "\n",
    "# Calculating the F1 score\n",
    "F1_score = calculate_F1(X_std, y)\n",
    "\n",
    "print(\"Maximum Fisher's discriminant ratio (F1):\", F1_score)"
   ]
  },
  {
   "cell_type": "code",
   "execution_count": 34,
   "metadata": {},
   "outputs": [
    {
     "name": "stdout",
     "output_type": "stream",
     "text": [
      "[[1.45878641e+02 1.57544397e+02 1.22033879e+02 ... 1.71841525e+02\n",
      "  1.51539138e+02 1.47169094e+02]\n",
      " [2.82061479e-02 3.12884612e-02 2.32709904e-02 ... 2.57698915e-02\n",
      "  2.45978019e-02 2.71611350e-02]\n",
      " [4.28264494e+01 4.51057889e+01 3.88998220e+01 ... 4.09351584e+01\n",
      "  3.99934003e+01 4.20256208e+01]\n",
      " ...\n",
      " [6.50204418e+00 5.36804456e+00 6.61965375e+00 ... 5.77267129e+00\n",
      "  5.66878572e+00 5.74624532e+00]\n",
      " [4.05498418e-02 1.22249152e-01 2.98247862e-02 ... 7.26712233e-02\n",
      "  8.22629697e-02 7.89176484e-02]\n",
      " [0.00000000e+00 1.00000000e+00 2.00000000e+00 ... 2.00000000e+00\n",
      "  3.00000000e+00 4.00000000e+00]]\n"
     ]
    }
   ],
   "source": [
    "column_arrays = df.transpose().values\n",
    "\n",
    "print(column_arrays)"
   ]
  },
  {
   "cell_type": "code",
   "execution_count": 35,
   "metadata": {},
   "outputs": [
    {
     "name": "stdout",
     "output_type": "stream",
     "text": [
      "1 Maximum Fisher's discriminant ratio (F1): 0.29448355200471843\n",
      "2 Maximum Fisher's discriminant ratio (F1): 0.23832457265468002\n",
      "3 Maximum Fisher's discriminant ratio (F1): 0.24931317645990336\n",
      "4 Maximum Fisher's discriminant ratio (F1): 0.3047848412962319\n",
      "5 Maximum Fisher's discriminant ratio (F1): 0.27836008873406287\n",
      "6 Maximum Fisher's discriminant ratio (F1): 0.23500624837914844\n",
      "7 Maximum Fisher's discriminant ratio (F1): 0.24087791708642284\n",
      "8 Maximum Fisher's discriminant ratio (F1): 0.37159099871605084\n",
      "9 Maximum Fisher's discriminant ratio (F1): 0.29627700463572987\n",
      "10 Maximum Fisher's discriminant ratio (F1): 0.05640707206085828\n",
      "11 Maximum Fisher's discriminant ratio (F1): 0.08677761388755435\n",
      "12 Maximum Fisher's discriminant ratio (F1): 0.15018955276344614\n",
      "13 Maximum Fisher's discriminant ratio (F1): 0.26936958040109793\n",
      "14 Maximum Fisher's discriminant ratio (F1): 0.37159099871605084\n",
      "15 Maximum Fisher's discriminant ratio (F1): 0.495910358476625\n",
      "16 Maximum Fisher's discriminant ratio (F1): 0.4810711002660436\n",
      "17 Maximum Fisher's discriminant ratio (F1): 0.06219932337385356\n",
      "18 Maximum Fisher's discriminant ratio (F1): 0.25963594960990455\n",
      "19 Maximum Fisher's discriminant ratio (F1): 0.2930088560212098\n",
      "20 Maximum Fisher's discriminant ratio (F1): 0.34897126956719754\n",
      "21 Maximum Fisher's discriminant ratio (F1): 0.495910358476625\n",
      "22 Maximum Fisher's discriminant ratio (F1): 0.5316177240417312\n",
      "23 Maximum Fisher's discriminant ratio (F1): 0.6365179592843386\n",
      "24 Maximum Fisher's discriminant ratio (F1): 0.06725808968627409\n",
      "25 Maximum Fisher's discriminant ratio (F1): 0.7797196011983197\n",
      "26 Maximum Fisher's discriminant ratio (F1): 1.0187192154605897\n",
      "27 Maximum Fisher's discriminant ratio (F1): 0.4089561900935316\n",
      "28 Maximum Fisher's discriminant ratio (F1): 0.5316177240417312\n",
      "29 Maximum Fisher's discriminant ratio (F1): 0.4906277600408674\n",
      "30 Maximum Fisher's discriminant ratio (F1): 0.4781991403991238\n",
      "31 Maximum Fisher's discriminant ratio (F1): 0.0\n",
      "32 Maximum Fisher's discriminant ratio (F1): nan\n",
      "33 Maximum Fisher's discriminant ratio (F1): 0.3213529830799992\n",
      "34 Maximum Fisher's discriminant ratio (F1): 0.34535596988004325\n",
      "35 Maximum Fisher's discriminant ratio (F1): 0.4906277600408674\n"
     ]
    },
    {
     "name": "stderr",
     "output_type": "stream",
     "text": [
      "<ipython-input-24-2dac0cf5f7ce>:24: RuntimeWarning: invalid value encountered in double_scalars\n",
      "  F1 = numerator / denominator\n"
     ]
    }
   ],
   "source": [
    "for i in range(len(column_names)):\n",
    "    F1_score = calculate_F1(column_arrays[i], y)\n",
    "    print(i+1, \"Maximum Fisher's discriminant ratio (F1):\", F1_score)"
   ]
  },
  {
   "cell_type": "code",
   "execution_count": 8,
   "metadata": {},
   "outputs": [],
   "source": [
    "# Assuming X_std and y are defined\n",
    "feature_weights = reliefF(X_std, y)"
   ]
  },
  {
   "cell_type": "code",
   "execution_count": 9,
   "metadata": {
    "scrolled": true
   },
   "outputs": [],
   "source": [
    "combines = {'Features': df.iloc[:, :-1].columns, 'Weights': feature_weights}\n",
    "weight_f = pd.DataFrame(combines)\n",
    "weight_f = weight_f.sort_values('Weights', ascending=True)"
   ]
  },
  {
   "cell_type": "code",
   "execution_count": 10,
   "metadata": {},
   "outputs": [],
   "source": [
    "def normalize_dataframe(df):\n",
    "    # Find the minimum and maximum values in the dataframe\n",
    "    min_val = df.min().min()\n",
    "    max_val = df.max().max()\n",
    "    \n",
    "    # Normalize the dataframe using the formula: normalized_value = (value - min_val) / (max_val - min_val)\n",
    "    normalized_df = (df - min_val) / (max_val - min_val)\n",
    "    \n",
    "    # Invert the normalization to have the maximum value as 0 and the minimum value as 1\n",
    "    inverted_df = 1 - normalized_df\n",
    "    \n",
    "    return inverted_df\n",
    "\n",
    "# Normalize the F1 values using Min-Max scaling\n",
    "weight_f_norm = weight_f\n",
    "weight_f_norm['Normalized'] = normalize_dataframe(weight_f[['Weights']])"
   ]
  },
  {
   "cell_type": "code",
   "execution_count": 11,
   "metadata": {
    "scrolled": false
   },
   "outputs": [
    {
     "data": {
      "text/html": [
       "<div>\n",
       "<style scoped>\n",
       "    .dataframe tbody tr th:only-of-type {\n",
       "        vertical-align: middle;\n",
       "    }\n",
       "\n",
       "    .dataframe tbody tr th {\n",
       "        vertical-align: top;\n",
       "    }\n",
       "\n",
       "    .dataframe thead th {\n",
       "        text-align: right;\n",
       "    }\n",
       "</style>\n",
       "<table border=\"1\" class=\"dataframe\">\n",
       "  <thead>\n",
       "    <tr style=\"text-align: right;\">\n",
       "      <th></th>\n",
       "      <th>Features</th>\n",
       "      <th>Weights</th>\n",
       "      <th>Normalized</th>\n",
       "    </tr>\n",
       "  </thead>\n",
       "  <tbody>\n",
       "    <tr>\n",
       "      <th>0</th>\n",
       "      <td>age</td>\n",
       "      <td>-0.076480</td>\n",
       "      <td>1.000000</td>\n",
       "    </tr>\n",
       "    <tr>\n",
       "      <th>9</th>\n",
       "      <td>sit-ups counts</td>\n",
       "      <td>-0.048126</td>\n",
       "      <td>0.623258</td>\n",
       "    </tr>\n",
       "    <tr>\n",
       "      <th>7</th>\n",
       "      <td>gripForce</td>\n",
       "      <td>-0.040222</td>\n",
       "      <td>0.518230</td>\n",
       "    </tr>\n",
       "    <tr>\n",
       "      <th>10</th>\n",
       "      <td>broad jump_cm</td>\n",
       "      <td>-0.035407</td>\n",
       "      <td>0.454250</td>\n",
       "    </tr>\n",
       "    <tr>\n",
       "      <th>2</th>\n",
       "      <td>height_cm</td>\n",
       "      <td>-0.034446</td>\n",
       "      <td>0.441478</td>\n",
       "    </tr>\n",
       "    <tr>\n",
       "      <th>3</th>\n",
       "      <td>weight_kg</td>\n",
       "      <td>-0.028426</td>\n",
       "      <td>0.361498</td>\n",
       "    </tr>\n",
       "    <tr>\n",
       "      <th>4</th>\n",
       "      <td>body fat_%</td>\n",
       "      <td>-0.027585</td>\n",
       "      <td>0.350316</td>\n",
       "    </tr>\n",
       "    <tr>\n",
       "      <th>6</th>\n",
       "      <td>systolic</td>\n",
       "      <td>-0.021937</td>\n",
       "      <td>0.275270</td>\n",
       "    </tr>\n",
       "    <tr>\n",
       "      <th>5</th>\n",
       "      <td>diastolic</td>\n",
       "      <td>-0.021041</td>\n",
       "      <td>0.263368</td>\n",
       "    </tr>\n",
       "    <tr>\n",
       "      <th>8</th>\n",
       "      <td>sit and bend forward_cm</td>\n",
       "      <td>-0.010361</td>\n",
       "      <td>0.121467</td>\n",
       "    </tr>\n",
       "    <tr>\n",
       "      <th>1</th>\n",
       "      <td>gender</td>\n",
       "      <td>-0.001220</td>\n",
       "      <td>0.000000</td>\n",
       "    </tr>\n",
       "  </tbody>\n",
       "</table>\n",
       "</div>"
      ],
      "text/plain": [
       "                   Features   Weights  Normalized\n",
       "0                       age -0.076480    1.000000\n",
       "9            sit-ups counts -0.048126    0.623258\n",
       "7                 gripForce -0.040222    0.518230\n",
       "10            broad jump_cm -0.035407    0.454250\n",
       "2                 height_cm -0.034446    0.441478\n",
       "3                 weight_kg -0.028426    0.361498\n",
       "4                body fat_% -0.027585    0.350316\n",
       "6                  systolic -0.021937    0.275270\n",
       "5                 diastolic -0.021041    0.263368\n",
       "8   sit and bend forward_cm -0.010361    0.121467\n",
       "1                    gender -0.001220    0.000000"
      ]
     },
     "execution_count": 11,
     "metadata": {},
     "output_type": "execute_result"
    }
   ],
   "source": [
    "weight_f_norm.head(100)"
   ]
  },
  {
   "cell_type": "code",
   "execution_count": 14,
   "metadata": {},
   "outputs": [],
   "source": [
    "from sklearn.model_selection import train_test_split\n",
    "from sklearn.ensemble import RandomForestClassifier\n",
    "from sklearn.metrics import accuracy_score\n",
    "\n",
    "import time\n",
    "Xs = df.iloc[:, :-1]\n",
    "ys = df.iloc[:, -1]\n",
    "X_train, X_test, y_train, y_test = train_test_split(Xs, ys, test_size = 0.3, random_state = 42)\n",
    "\n",
    "accs = {}\n",
    "timer = {}\n"
   ]
  },
  {
   "cell_type": "code",
   "execution_count": 15,
   "metadata": {},
   "outputs": [
    {
     "name": "stdout",
     "output_type": "stream",
     "text": [
      "Accuracy using except ... columns= 0.7302140368342459\n",
      "Elapsed Time = 3.99708890914917\n",
      "\n"
     ]
    }
   ],
   "source": [
    "X_select = X_train.drop(['gender'],axis=1)\n",
    "\n",
    "start_time = time.time()\n",
    "# Train a random forest model on the training data\n",
    "model = RandomForestClassifier(random_state = 42)\n",
    "model.fit(X_select, y_train)\n",
    "end_time = time.time()\n",
    "\n",
    "# Evaluate the model on the testing data\n",
    "X_test_select = X_test.drop(['gender'],axis=1)\n",
    "y_pred = model.predict(X_test_select)\n",
    "acc = accuracy_score(y_test, y_pred)\n",
    "\n",
    "times = end_time - start_time\n",
    "\n",
    "print(f\"Accuracy using except ... columns= {acc}\")\n",
    "print(f\"Elapsed Time = {times}\")\n",
    "print()"
   ]
  },
  {
   "cell_type": "code",
   "execution_count": 16,
   "metadata": {},
   "outputs": [
    {
     "name": "stdout",
     "output_type": "stream",
     "text": [
      "Accuracy using all columns= 0.7336983573917372\n",
      "Elapsed Time = 3.243070363998413\n",
      "\n"
     ]
    }
   ],
   "source": [
    "X_select = X_train\n",
    "\n",
    "start_time = time.time()\n",
    "# Train a random forest model on the training data\n",
    "model = RandomForestClassifier(random_state = 42)\n",
    "model.fit(X_select, y_train)\n",
    "end_time = time.time()\n",
    "\n",
    "# Evaluate the model on the testing data\n",
    "X_test_select = X_test\n",
    "y_pred = model.predict(X_test_select)\n",
    "acc = accuracy_score(y_test, y_pred)\n",
    "\n",
    "times = end_time - start_time\n",
    "\n",
    "print(f\"Accuracy using all columns= {acc}\")\n",
    "print(f\"Elapsed Time = {times}\")\n",
    "print()"
   ]
  },
  {
   "cell_type": "code",
   "execution_count": 17,
   "metadata": {},
   "outputs": [],
   "source": [
    "# Membaca data\n",
    "X = df.iloc[:, :-1]\n",
    "y = df.iloc[:, -1]\n",
    "from sklearn.feature_selection import mutual_info_classif\n",
    "scores = mutual_info_classif(X, y)\n",
    "\n",
    "result_fs = pd.DataFrame({'feature_names': list(X.columns), 'scores': list(scores)})\n",
    "result_fs = result_fs.sort_values(\"scores\", ascending=False)"
   ]
  },
  {
   "cell_type": "code",
   "execution_count": 18,
   "metadata": {},
   "outputs": [],
   "source": [
    "def normalize_dataframe(df):\n",
    "    # Find the minimum and maximum values in the dataframe\n",
    "    min_val = df.min().min()\n",
    "    max_val = df.max().max()\n",
    "    \n",
    "    # Normalize the dataframe using the formula: normalized_value = (value - min_val) / (max_val - min_val)\n",
    "    normalized_df = (df - min_val) / (max_val - min_val)\n",
    "    \n",
    "    # Invert the normalization to have the maximum value as 0 and the minimum value as 1\n",
    "#     inverted_df = 1 - normalized_df\n",
    "    \n",
    "    return normalized_df\n",
    "\n",
    "# Normalize the F1 values using Min-Max scaling\n",
    "weight_f_norm = result_fs\n",
    "weight_f_norm['Normalized'] = normalize_dataframe(result_fs[['scores']])\n",
    "\n"
   ]
  },
  {
   "cell_type": "code",
   "execution_count": 19,
   "metadata": {
    "scrolled": false
   },
   "outputs": [
    {
     "data": {
      "text/html": [
       "<div>\n",
       "<style scoped>\n",
       "    .dataframe tbody tr th:only-of-type {\n",
       "        vertical-align: middle;\n",
       "    }\n",
       "\n",
       "    .dataframe tbody tr th {\n",
       "        vertical-align: top;\n",
       "    }\n",
       "\n",
       "    .dataframe thead th {\n",
       "        text-align: right;\n",
       "    }\n",
       "</style>\n",
       "<table border=\"1\" class=\"dataframe\">\n",
       "  <thead>\n",
       "    <tr style=\"text-align: right;\">\n",
       "      <th></th>\n",
       "      <th>feature_names</th>\n",
       "      <th>scores</th>\n",
       "      <th>Normalized</th>\n",
       "    </tr>\n",
       "  </thead>\n",
       "  <tbody>\n",
       "    <tr>\n",
       "      <th>8</th>\n",
       "      <td>sit and bend forward_cm</td>\n",
       "      <td>0.302745</td>\n",
       "      <td>1.000000</td>\n",
       "    </tr>\n",
       "    <tr>\n",
       "      <th>9</th>\n",
       "      <td>sit-ups counts</td>\n",
       "      <td>0.130598</td>\n",
       "      <td>0.431379</td>\n",
       "    </tr>\n",
       "    <tr>\n",
       "      <th>4</th>\n",
       "      <td>body fat_%</td>\n",
       "      <td>0.085509</td>\n",
       "      <td>0.282447</td>\n",
       "    </tr>\n",
       "    <tr>\n",
       "      <th>10</th>\n",
       "      <td>broad jump_cm</td>\n",
       "      <td>0.054815</td>\n",
       "      <td>0.181060</td>\n",
       "    </tr>\n",
       "    <tr>\n",
       "      <th>7</th>\n",
       "      <td>gripForce</td>\n",
       "      <td>0.036014</td>\n",
       "      <td>0.118957</td>\n",
       "    </tr>\n",
       "    <tr>\n",
       "      <th>3</th>\n",
       "      <td>weight_kg</td>\n",
       "      <td>0.032219</td>\n",
       "      <td>0.106423</td>\n",
       "    </tr>\n",
       "    <tr>\n",
       "      <th>2</th>\n",
       "      <td>height_cm</td>\n",
       "      <td>0.018307</td>\n",
       "      <td>0.060470</td>\n",
       "    </tr>\n",
       "    <tr>\n",
       "      <th>5</th>\n",
       "      <td>diastolic</td>\n",
       "      <td>0.010174</td>\n",
       "      <td>0.033606</td>\n",
       "    </tr>\n",
       "    <tr>\n",
       "      <th>0</th>\n",
       "      <td>age</td>\n",
       "      <td>0.010133</td>\n",
       "      <td>0.033471</td>\n",
       "    </tr>\n",
       "    <tr>\n",
       "      <th>1</th>\n",
       "      <td>gender</td>\n",
       "      <td>0.008776</td>\n",
       "      <td>0.028987</td>\n",
       "    </tr>\n",
       "    <tr>\n",
       "      <th>6</th>\n",
       "      <td>systolic</td>\n",
       "      <td>0.000000</td>\n",
       "      <td>0.000000</td>\n",
       "    </tr>\n",
       "  </tbody>\n",
       "</table>\n",
       "</div>"
      ],
      "text/plain": [
       "              feature_names    scores  Normalized\n",
       "8   sit and bend forward_cm  0.302745    1.000000\n",
       "9            sit-ups counts  0.130598    0.431379\n",
       "4                body fat_%  0.085509    0.282447\n",
       "10            broad jump_cm  0.054815    0.181060\n",
       "7                 gripForce  0.036014    0.118957\n",
       "3                 weight_kg  0.032219    0.106423\n",
       "2                 height_cm  0.018307    0.060470\n",
       "5                 diastolic  0.010174    0.033606\n",
       "0                       age  0.010133    0.033471\n",
       "1                    gender  0.008776    0.028987\n",
       "6                  systolic  0.000000    0.000000"
      ]
     },
     "execution_count": 19,
     "metadata": {},
     "output_type": "execute_result"
    }
   ],
   "source": [
    "weight_f_norm.head(100)"
   ]
  },
  {
   "cell_type": "code",
   "execution_count": 32,
   "metadata": {},
   "outputs": [
    {
     "name": "stdout",
     "output_type": "stream",
     "text": [
      "Accuracy using except ... columns= 0.26666666666666666\n",
      "Elapsed Time = 0.25574684143066406\n",
      "\n"
     ]
    }
   ],
   "source": [
    "X_select = X_train.drop([deviasi','stdevy90','stdevy45'],axis=1)\n",
    "\n",
    "start_time = time.time()\n",
    "# Train a random forest model on the training data\n",
    "model = RandomForestClassifier(random_state = 42)\n",
    "model.fit(X_select, y_train)\n",
    "end_time = time.time()\n",
    "\n",
    "# Evaluate the model on the testing data\n",
    "X_test_select = X_test.drop(['smoothness','varians_n','korelasi135','skewness','deviasi','stdevy90','stdevy45'],axis=1)\n",
    "y_pred = model.predict(X_test_select)\n",
    "acc = accuracy_score(y_test, y_pred)\n",
    "\n",
    "times = end_time - start_time\n",
    "\n",
    "print(f\"Accuracy using except ... columns= {acc}\")\n",
    "print(f\"Elapsed Time = {times}\")\n",
    "print()"
   ]
  }
 ],
 "metadata": {
  "kernelspec": {
   "display_name": "Python 3",
   "language": "python",
   "name": "python3"
  },
  "language_info": {
   "codemirror_mode": {
    "name": "ipython",
    "version": 3
   },
   "file_extension": ".py",
   "mimetype": "text/x-python",
   "name": "python",
   "nbconvert_exporter": "python",
   "pygments_lexer": "ipython3",
   "version": "3.8.3"
  }
 },
 "nbformat": 4,
 "nbformat_minor": 4
}
