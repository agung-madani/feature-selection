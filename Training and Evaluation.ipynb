{
 "cells": [
  {
   "cell_type": "code",
   "execution_count": 1,
   "metadata": {},
   "outputs": [],
   "source": [
    "import pandas as pd\n",
    "import numpy as np\n",
    "\n",
    "df = pd.read_csv('bodyPerformance.csv')\n",
    "len_row, len_col = df.shape\n",
    "# df.fillna(df.mode().iloc[0], inplace=True) # Replace NaN values with mode of corresponding column\n",
    "# use the factorize() function to convert the column of strings to integers\n",
    "# non_int_columns = df.select_dtypes(include=['object']).columns.tolist()\n",
    "    \n",
    "# Delete duplicate rows\n",
    "df = df.drop_duplicates()"
   ]
  },
  {
   "cell_type": "code",
   "execution_count": 2,
   "metadata": {},
   "outputs": [],
   "source": [
    "label_mapping = {'A': 0, 'B': 1, 'C': 2, 'D': 3}\n",
    "\n",
    "df['class'] = df['class'].replace(label_mapping)\n",
    "\n",
    "label_mapping = {'M': 1, 'F': 2}\n",
    "\n",
    "df['gender'] = df['gender'].replace(label_mapping)"
   ]
  },
  {
   "cell_type": "code",
   "execution_count": 3,
   "metadata": {},
   "outputs": [
    {
     "data": {
      "text/html": [
       "<div>\n",
       "<style scoped>\n",
       "    .dataframe tbody tr th:only-of-type {\n",
       "        vertical-align: middle;\n",
       "    }\n",
       "\n",
       "    .dataframe tbody tr th {\n",
       "        vertical-align: top;\n",
       "    }\n",
       "\n",
       "    .dataframe thead th {\n",
       "        text-align: right;\n",
       "    }\n",
       "</style>\n",
       "<table border=\"1\" class=\"dataframe\">\n",
       "  <thead>\n",
       "    <tr style=\"text-align: right;\">\n",
       "      <th></th>\n",
       "      <th>age</th>\n",
       "      <th>gender</th>\n",
       "      <th>height_cm</th>\n",
       "      <th>weight_kg</th>\n",
       "      <th>body fat_%</th>\n",
       "      <th>diastolic</th>\n",
       "      <th>systolic</th>\n",
       "      <th>gripForce</th>\n",
       "      <th>sit and bend forward_cm</th>\n",
       "      <th>sit-ups counts</th>\n",
       "      <th>broad jump_cm</th>\n",
       "      <th>class</th>\n",
       "    </tr>\n",
       "  </thead>\n",
       "  <tbody>\n",
       "    <tr>\n",
       "      <th>0</th>\n",
       "      <td>27.0</td>\n",
       "      <td>1</td>\n",
       "      <td>172.3</td>\n",
       "      <td>75.24</td>\n",
       "      <td>21.3</td>\n",
       "      <td>80.0</td>\n",
       "      <td>130.0</td>\n",
       "      <td>54.9</td>\n",
       "      <td>18.4</td>\n",
       "      <td>60.0</td>\n",
       "      <td>217.0</td>\n",
       "      <td>2</td>\n",
       "    </tr>\n",
       "    <tr>\n",
       "      <th>1</th>\n",
       "      <td>25.0</td>\n",
       "      <td>1</td>\n",
       "      <td>165.0</td>\n",
       "      <td>55.80</td>\n",
       "      <td>15.7</td>\n",
       "      <td>77.0</td>\n",
       "      <td>126.0</td>\n",
       "      <td>36.4</td>\n",
       "      <td>16.3</td>\n",
       "      <td>53.0</td>\n",
       "      <td>229.0</td>\n",
       "      <td>0</td>\n",
       "    </tr>\n",
       "    <tr>\n",
       "      <th>2</th>\n",
       "      <td>31.0</td>\n",
       "      <td>1</td>\n",
       "      <td>179.6</td>\n",
       "      <td>78.00</td>\n",
       "      <td>20.1</td>\n",
       "      <td>92.0</td>\n",
       "      <td>152.0</td>\n",
       "      <td>44.8</td>\n",
       "      <td>12.0</td>\n",
       "      <td>49.0</td>\n",
       "      <td>181.0</td>\n",
       "      <td>2</td>\n",
       "    </tr>\n",
       "    <tr>\n",
       "      <th>3</th>\n",
       "      <td>32.0</td>\n",
       "      <td>1</td>\n",
       "      <td>174.5</td>\n",
       "      <td>71.10</td>\n",
       "      <td>18.4</td>\n",
       "      <td>76.0</td>\n",
       "      <td>147.0</td>\n",
       "      <td>41.4</td>\n",
       "      <td>15.2</td>\n",
       "      <td>53.0</td>\n",
       "      <td>219.0</td>\n",
       "      <td>1</td>\n",
       "    </tr>\n",
       "    <tr>\n",
       "      <th>4</th>\n",
       "      <td>28.0</td>\n",
       "      <td>1</td>\n",
       "      <td>173.8</td>\n",
       "      <td>67.70</td>\n",
       "      <td>17.1</td>\n",
       "      <td>70.0</td>\n",
       "      <td>127.0</td>\n",
       "      <td>43.5</td>\n",
       "      <td>27.1</td>\n",
       "      <td>45.0</td>\n",
       "      <td>217.0</td>\n",
       "      <td>1</td>\n",
       "    </tr>\n",
       "  </tbody>\n",
       "</table>\n",
       "</div>"
      ],
      "text/plain": [
       "    age  gender  height_cm  weight_kg  body fat_%  diastolic  systolic  \\\n",
       "0  27.0       1      172.3      75.24        21.3       80.0     130.0   \n",
       "1  25.0       1      165.0      55.80        15.7       77.0     126.0   \n",
       "2  31.0       1      179.6      78.00        20.1       92.0     152.0   \n",
       "3  32.0       1      174.5      71.10        18.4       76.0     147.0   \n",
       "4  28.0       1      173.8      67.70        17.1       70.0     127.0   \n",
       "\n",
       "   gripForce  sit and bend forward_cm  sit-ups counts  broad jump_cm  class  \n",
       "0       54.9                     18.4            60.0          217.0      2  \n",
       "1       36.4                     16.3            53.0          229.0      0  \n",
       "2       44.8                     12.0            49.0          181.0      2  \n",
       "3       41.4                     15.2            53.0          219.0      1  \n",
       "4       43.5                     27.1            45.0          217.0      1  "
      ]
     },
     "execution_count": 3,
     "metadata": {},
     "output_type": "execute_result"
    }
   ],
   "source": [
    "df.head()"
   ]
  },
  {
   "cell_type": "code",
   "execution_count": 4,
   "metadata": {},
   "outputs": [],
   "source": [
    "from sklearn.model_selection import train_test_split\n",
    "from sklearn.ensemble import RandomForestClassifier\n",
    "from sklearn.metrics import accuracy_score\n",
    "\n",
    "import time\n",
    "Xs = df.iloc[:, :-1]\n",
    "ys = df.iloc[:, -1]\n",
    "X_train, X_test, y_train, y_test = train_test_split(Xs, ys, test_size = 0.3, random_state = 42)\n",
    "\n",
    "accs = {}\n",
    "timer = {}"
   ]
  },
  {
   "cell_type": "markdown",
   "metadata": {},
   "source": [
    "### All Column"
   ]
  },
  {
   "cell_type": "code",
   "execution_count": 24,
   "metadata": {},
   "outputs": [
    {
     "name": "stdout",
     "output_type": "stream",
     "text": [
      "Accuracy = 0.7336983573917372\n",
      "Elapsed Time = 2.374516248703003\n"
     ]
    }
   ],
   "source": [
    "start_time = time.time()\n",
    "# Train a random forest model on the training data\n",
    "model = RandomForestClassifier(random_state = 42)\n",
    "model.fit(X_train, y_train)\n",
    "end_time = time.time()\n",
    "\n",
    "# Evaluate the model on the testing data\n",
    "y_pred = model.predict(X_test)\n",
    "acc = accuracy_score(y_test, y_pred)\n",
    "times = end_time - start_time\n",
    "\n",
    "print(f\"Accuracy = {acc}\")\n",
    "print(f\"Elapsed Time = {times}\")"
   ]
  },
  {
   "attachments": {},
   "cell_type": "markdown",
   "metadata": {},
   "source": [
    "### MRMR(K=3)"
   ]
  },
  {
   "cell_type": "code",
   "execution_count": 14,
   "metadata": {},
   "outputs": [
    {
     "name": "stdout",
     "output_type": "stream",
     "text": [
      "Accuracy = 0.5567446490791439\n",
      "Elapsed Time = 1.399531602859497\n",
      "\n"
     ]
    }
   ],
   "source": [
    "X_select = X_train[['sit and bend forward_cm','sit-ups counts','broad jump_cm']]\n",
    "\n",
    "start_time = time.time()\n",
    "# Train a random forest model on the training data\n",
    "model = RandomForestClassifier(random_state = 42)\n",
    "model.fit(X_select, y_train)\n",
    "end_time = time.time()\n",
    "\n",
    "# Evaluate the model on the testing data\n",
    "X_test_select = X_test[['sit and bend forward_cm','sit-ups counts','broad jump_cm']]\n",
    "y_pred = model.predict(X_test_select)\n",
    "acc = accuracy_score(y_test, y_pred)\n",
    "\n",
    "times = end_time - start_time\n",
    "\n",
    "print(f\"Accuracy = {acc}\")\n",
    "print(f\"Elapsed Time = {times}\")\n",
    "print()"
   ]
  },
  {
   "cell_type": "markdown",
   "metadata": {},
   "source": [
    "### MRMR(K=6)"
   ]
  },
  {
   "cell_type": "code",
   "execution_count": 16,
   "metadata": {},
   "outputs": [
    {
     "name": "stdout",
     "output_type": "stream",
     "text": [
      "Accuracy = 0.6199601791936287\n",
      "Elapsed Time = 1.8961188793182373\n",
      "\n"
     ]
    }
   ],
   "source": [
    "X_select = X_train[['weight_kg','body fat_%','diastolic','sit and bend forward_cm','sit-ups counts','broad jump_cm']]\n",
    "\n",
    "start_time = time.time()\n",
    "# Train a random forest model on the training data\n",
    "model = RandomForestClassifier(random_state = 42)\n",
    "model.fit(X_select, y_train)\n",
    "end_time = time.time()\n",
    "\n",
    "# Evaluate the model on the testing data\n",
    "X_test_select = X_test[['weight_kg','body fat_%','diastolic','sit and bend forward_cm','sit-ups counts','broad jump_cm']]\n",
    "y_pred = model.predict(X_test_select)\n",
    "acc = accuracy_score(y_test, y_pred)\n",
    "\n",
    "times = end_time - start_time\n",
    "\n",
    "print(f\"Accuracy = {acc}\")\n",
    "print(f\"Elapsed Time = {times}\")\n",
    "print()"
   ]
  },
  {
   "cell_type": "markdown",
   "metadata": {},
   "source": [
    "### ReliefF(K=3)"
   ]
  },
  {
   "cell_type": "code",
   "execution_count": 17,
   "metadata": {},
   "outputs": [
    {
     "name": "stdout",
     "output_type": "stream",
     "text": [
      "Accuracy = 0.485813837730214\n",
      "Elapsed Time = 1.3224866390228271\n",
      "\n"
     ]
    }
   ],
   "source": [
    "X_select = X_train[['gender','sit and bend forward_cm','broad jump_cm']]\n",
    "\n",
    "start_time = time.time()\n",
    "# Train a random forest model on the training data\n",
    "model = RandomForestClassifier(random_state = 42)\n",
    "model.fit(X_select, y_train)\n",
    "end_time = time.time()\n",
    "\n",
    "# Evaluate the model on the testing data\n",
    "X_test_select = X_test[['gender','sit and bend forward_cm','broad jump_cm']]\n",
    "y_pred = model.predict(X_test_select)\n",
    "acc = accuracy_score(y_test, y_pred)\n",
    "\n",
    "times = end_time - start_time\n",
    "\n",
    "print(f\"Accuracy = {acc}\")\n",
    "print(f\"Elapsed Time = {times}\")\n",
    "print()"
   ]
  },
  {
   "cell_type": "markdown",
   "metadata": {},
   "source": [
    "### ReliefF(K=6)"
   ]
  },
  {
   "cell_type": "code",
   "execution_count": 19,
   "metadata": {},
   "outputs": [
    {
     "name": "stdout",
     "output_type": "stream",
     "text": [
      "Accuracy = 0.566948730711797\n",
      "Elapsed Time = 1.8012220859527588\n",
      "\n"
     ]
    }
   ],
   "source": [
    "X_select = X_train[['gender','weight_kg','diastolic','systolic','sit and bend forward_cm','broad jump_cm']]\n",
    "\n",
    "start_time = time.time()\n",
    "# Train a random forest model on the training data\n",
    "model = RandomForestClassifier(random_state = 42)\n",
    "model.fit(X_select, y_train)\n",
    "end_time = time.time()\n",
    "\n",
    "# Evaluate the model on the testing data\n",
    "X_test_select = X_test[['gender','weight_kg','diastolic','systolic','sit and bend forward_cm','broad jump_cm']]\n",
    "y_pred = model.predict(X_test_select)\n",
    "acc = accuracy_score(y_test, y_pred)\n",
    "\n",
    "times = end_time - start_time\n",
    "\n",
    "print(f\"Accuracy = {acc}\")\n",
    "print(f\"Elapsed Time = {times}\")\n",
    "print()"
   ]
  },
  {
   "cell_type": "markdown",
   "metadata": {},
   "source": [
    "### ReliefF & Maximum Fisher's Discriminant Ratio"
   ]
  },
  {
   "cell_type": "code",
   "execution_count": 23,
   "metadata": {},
   "outputs": [
    {
     "name": "stdout",
     "output_type": "stream",
     "text": [
      "Accuracy = 0.6518168242906919\n",
      "Elapsed Time = 2.26037335395813\n",
      "\n"
     ]
    }
   ],
   "source": [
    "X_select = X_train.drop('age',axis=1)\n",
    "\n",
    "start_time = time.time()\n",
    "# Train a random forest model on the training data\n",
    "model = RandomForestClassifier(random_state = 42)\n",
    "model.fit(X_select, y_train)\n",
    "end_time = time.time()\n",
    "\n",
    "# Evaluate the model on the testing data\n",
    "X_test_select = X_test.drop('age',axis=1)\n",
    "y_pred = model.predict(X_test_select)\n",
    "acc = accuracy_score(y_test, y_pred)\n",
    "\n",
    "times = end_time - start_time\n",
    "\n",
    "print(f\"Accuracy = {acc}\")\n",
    "print(f\"Elapsed Time = {times}\")\n",
    "print()"
   ]
  }
 ],
 "metadata": {
  "kernelspec": {
   "display_name": "Python 3",
   "language": "python",
   "name": "python3"
  },
  "language_info": {
   "codemirror_mode": {
    "name": "ipython",
    "version": 3
   },
   "file_extension": ".py",
   "mimetype": "text/x-python",
   "name": "python",
   "nbconvert_exporter": "python",
   "pygments_lexer": "ipython3",
   "version": "3.8.3"
  }
 },
 "nbformat": 4,
 "nbformat_minor": 4
}
